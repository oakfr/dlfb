{
 "cells": [
  {
   "cell_type": "code",
   "execution_count": 1,
   "metadata": {},
   "outputs": [],
   "source": [
    "# MNIST with an MLP, from scratch\n",
    "\n",
    "# - Step 1: build an MLP from scratch to solve MNIST. Question set: https://fleuret.org/dlc/materials/dlc-practical-3.pdf\n",
    "# - Step 2: debug your network with backprop ninja and a reference implementation using torch's .backward()\n",
    "# - Step 3: build the same MLP but will full pytorch code (nn.Linear, etc.)"
   ]
  },
  {
   "cell_type": "code",
   "execution_count": 2,
   "metadata": {},
   "outputs": [],
   "source": [
    "import math\n",
    "import torch\n",
    "from torch import nn\n",
    "import matplotlib.pyplot as plt\n",
    "%matplotlib inline"
   ]
  },
  {
   "cell_type": "code",
   "execution_count": 3,
   "metadata": {},
   "outputs": [
    {
     "name": "stderr",
     "output_type": "stream",
     "text": [
      "/opt/homebrew/lib/python3.11/site-packages/tqdm/auto.py:21: TqdmWarning: IProgress not found. Please update jupyter and ipywidgets. See https://ipywidgets.readthedocs.io/en/stable/user_install.html\n",
      "  from .autonotebook import tqdm as notebook_tqdm\n"
     ]
    }
   ],
   "source": [
    "from utils import load_data"
   ]
  },
  {
   "cell_type": "code",
   "execution_count": 4,
   "metadata": {},
   "outputs": [
    {
     "name": "stdout",
     "output_type": "stream",
     "text": [
      "* Using MNIST\n",
      "** Reduce the data-set (use --full for the full thing)\n",
      "** Use 1000 train and 1000 test samples\n"
     ]
    }
   ],
   "source": [
    "train_input, train_target, test_input, test_target = load_data(one_hot_labels = True, normalize = True)"
   ]
  },
  {
   "cell_type": "code",
   "execution_count": 5,
   "metadata": {},
   "outputs": [
    {
     "data": {
      "text/plain": [
       "torch.Size([1000, 784])"
      ]
     },
     "execution_count": 5,
     "metadata": {},
     "output_type": "execute_result"
    }
   ],
   "source": [
    "train_input.shape"
   ]
  },
  {
   "cell_type": "code",
   "execution_count": 6,
   "metadata": {},
   "outputs": [
    {
     "data": {
      "text/plain": [
       "<matplotlib.image.AxesImage at 0x16c1f0950>"
      ]
     },
     "execution_count": 6,
     "metadata": {},
     "output_type": "execute_result"
    },
    {
     "data": {
      "image/png": "[encoded data removed]",
      "text/plain": [
       "<Figure size 640x480 with 1 Axes>"
      ]
     },
     "metadata": {},
     "output_type": "display_data"
    }
   ],
   "source": [
    "plt.imshow(train_input[4].view((28,28)))"
   ]
  },
  {
   "cell_type": "code",
   "execution_count": 7,
   "metadata": {},
   "outputs": [],
   "source": [
    "def compute_accuracy (preds, targets):\n",
    "    \"\"\" Computes the accuracy between predictions and targets. Data is expected to be one-hot encoded. \"\"\"\n",
    "    _, idx1 = torch.max(preds, dim=1)\n",
    "    _, idx2 = torch.max(targets, dim=1)\n",
    "    d = idx1 == idx2\n",
    "    return d.int().float().mean().item()"
   ]
  },
  {
   "cell_type": "code",
   "execution_count": 8,
   "metadata": {},
   "outputs": [
    {
     "data": {
      "text/plain": [
       "0.75"
      ]
     },
     "execution_count": 8,
     "metadata": {},
     "output_type": "execute_result"
    }
   ],
   "source": [
    "# unit test\n",
    "preds = torch.zeros((4,7))\n",
    "preds[0,1] = 1\n",
    "preds[1,4] = 1\n",
    "preds[2,2] = 1\n",
    "preds[3,6] = 1\n",
    "targets = torch.zeros((4,7))\n",
    "targets[0,1] = 1\n",
    "targets[1,4] = 1\n",
    "targets[2,2] = 1\n",
    "targets[3,2] = 1\n",
    "compute_accuracy(preds, targets)"
   ]
  },
  {
   "cell_type": "code",
   "execution_count": 9,
   "metadata": {},
   "outputs": [],
   "source": [
    "def sigma(x):\n",
    "    return torch.tanh(x)\n",
    "\n",
    "def dsigma(x):\n",
    "    return (1.0 - torch.tanh(x)**2)"
   ]
  },
  {
   "cell_type": "code",
   "execution_count": 10,
   "metadata": {},
   "outputs": [],
   "source": [
    "def loss (v,t):\n",
    "    out = torch.sum(torch.pow(v-t, 2))\n",
    "    return out\n",
    "\n",
    "def dloss(v,t):\n",
    "    return -2.0 * (t-v)"
   ]
  },
  {
   "cell_type": "code",
   "execution_count": 11,
   "metadata": {},
   "outputs": [
    {
     "data": {
      "text/plain": [
       "tensor([[ 1.2605,  2.9888,  3.5522, -4.2223,  0.2682,  4.3774],\n",
       "        [ 2.1808, -0.4118, -1.7997,  2.7460, -0.7801, -3.3120],\n",
       "        [ 6.6432,  5.3379,  1.0165, -0.1707, -2.7271,  0.8778]])"
      ]
     },
     "execution_count": 11,
     "metadata": {},
     "output_type": "execute_result"
    }
   ],
   "source": [
    "v = torch.randn((3, 6), dtype=torch.float32)\n",
    "t = torch.randn((3, 6), dtype=torch.float32)\n",
    "l=loss(v,t)\n",
    "dloss(v,t)"
   ]
  },
  {
   "cell_type": "code",
   "execution_count": 12,
   "metadata": {},
   "outputs": [],
   "source": [
    "# multiply targets by 0.9 to be in the range of tanh\n",
    "train_target *= 0.9\n",
    "test_target *= 0.9"
   ]
  },
  {
   "cell_type": "markdown",
   "metadata": {},
   "source": [
    "### Step 1: Backprop ninja"
   ]
  },
  {
   "cell_type": "code",
   "execution_count": 13,
   "metadata": {},
   "outputs": [],
   "source": [
    "# utility function we will use later when comparing manual gradients to PyTorch gradients\n",
    "def cmp(s, dt, t):\n",
    "  ex = torch.all(dt == t.grad).item()\n",
    "  app = torch.allclose(dt, t.grad)\n",
    "  maxdiff = (dt - t.grad).abs().max().item()\n",
    "  print(f'{s:15s} | exact: {str(ex):5s} | approximate: {str(app):5s} | maxdiff: {maxdiff}')"
   ]
  },
  {
   "cell_type": "code",
   "execution_count": 14,
   "metadata": {},
   "outputs": [],
   "source": [
    "torch.manual_seed(1337)\n",
    "w1 = torch.randn((784, 50))\n",
    "b1 = torch.randn((50))\n",
    "w2 = torch.randn((50, 10))\n",
    "b2 = torch.randn((10))\n",
    "parameters = [w1, b1, w2, b2]\n",
    "for p in parameters:\n",
    "    p.requires_grad = True"
   ]
  },
  {
   "cell_type": "code",
   "execution_count": 15,
   "metadata": {},
   "outputs": [
    {
     "data": {
      "text/plain": [
       "(torch.Size([5, 10]), tensor(43.2825, grad_fn=<SumBackward0>))"
      ]
     },
     "execution_count": 15,
     "metadata": {},
     "output_type": "execute_result"
    }
   ],
   "source": [
    "x1 = train_input[:5]\n",
    "y1 = train_target[:5]\n",
    "z1 = x1 @ w1 + b1\n",
    "h1 = sigma(z1)\n",
    "z2 = h1 @ w2 + b2\n",
    "h2 = sigma(z2)\n",
    "l = loss(h2, y1)\n",
    "h2.shape, l"
   ]
  },
  {
   "cell_type": "code",
   "execution_count": 16,
   "metadata": {},
   "outputs": [
    {
     "name": "stdout",
     "output_type": "stream",
     "text": [
      "loss=43.282527923583984\n"
     ]
    }
   ],
   "source": [
    "others = [h2,z2,h1,z1]\n",
    "for p in parameters:\n",
    "    p.grad = None\n",
    "for t in others:\n",
    "    t.retain_grad()\n",
    "l.backward()\n",
    "print(f'loss={l}')"
   ]
  },
  {
   "cell_type": "code",
   "execution_count": 17,
   "metadata": {},
   "outputs": [
    {
     "data": {
      "text/plain": [
       "torch.Size([10])"
      ]
     },
     "execution_count": 17,
     "metadata": {},
     "output_type": "execute_result"
    }
   ],
   "source": [
    "b2.grad.shape"
   ]
  },
  {
   "cell_type": "code",
   "execution_count": 18,
   "metadata": {},
   "outputs": [
    {
     "data": {
      "text/plain": [
       "torch.Size([5, 50])"
      ]
     },
     "execution_count": 18,
     "metadata": {},
     "output_type": "execute_result"
    }
   ],
   "source": [
    "u = torch.randn((50,))\n",
    "z1.shape\n",
    "#(z1 + torch.randn((50,))).shape"
   ]
  },
  {
   "cell_type": "code",
   "execution_count": 19,
   "metadata": {},
   "outputs": [
    {
     "name": "stdout",
     "output_type": "stream",
     "text": [
      "h2              | exact: True  | approximate: True  | maxdiff: 0.0\n",
      "z2              | exact: True  | approximate: True  | maxdiff: 0.0\n",
      "w2              | exact: True  | approximate: True  | maxdiff: 0.0\n",
      "b2              | exact: True  | approximate: True  | maxdiff: 0.0\n",
      "h1              | exact: True  | approximate: True  | maxdiff: 0.0\n",
      "z1              | exact: True  | approximate: True  | maxdiff: 0.0\n",
      "w1              | exact: True  | approximate: True  | maxdiff: 0.0\n",
      "b1              | exact: True  | approximate: True  | maxdiff: 0.0\n"
     ]
    }
   ],
   "source": [
    "# here we compare our gradient to the reference gradient computed by pytorch\n",
    "dl = 1.0\n",
    "dh2 = dloss(h2, y1) * dl\n",
    "dh2.shape\n",
    "cmp('h2',dh2,h2)\n",
    "dz2 = dsigma(z2) * dh2\n",
    "dz2.shape\n",
    "cmp('z2',dz2, z2)\n",
    "dw2 = h1.T @ dz2\n",
    "cmp('w2',dw2, w2)\n",
    "db2 = dz2.sum(0, keepdim=True)\n",
    "#print(b2.shape)\n",
    "cmp('b2',db2, b2)\n",
    "dh1 = dz2 @ w2.T\n",
    "cmp('h1',dh1, h1)\n",
    "dz1 = dsigma(z1) * dh1\n",
    "cmp('z1', dz1, z1)\n",
    "dw1 = x1.T @ dz1\n",
    "cmp('w1', dw1, w1)\n",
    "db1 = dz1.sum(0, keepdim=True)\n",
    "cmp('b1', db1, b1)\n"
   ]
  },
  {
   "cell_type": "code",
   "execution_count": 20,
   "metadata": {},
   "outputs": [],
   "source": [
    "lr = 0.1\n",
    "with torch.no_grad():\n",
    "    w1 += -lr * dw1\n",
    "    b1 += -lr * db1.squeeze()\n",
    "    w2 += -lr * dw2\n",
    "    b2 += -lr * db2.squeeze()"
   ]
  },
  {
   "cell_type": "code",
   "execution_count": 21,
   "metadata": {},
   "outputs": [
    {
     "data": {
      "text/plain": [
       "43.282527923583984"
      ]
     },
     "execution_count": 21,
     "metadata": {},
     "output_type": "execute_result"
    }
   ],
   "source": [
    "l = loss(h2, y1)\n",
    "l.item()"
   ]
  },
  {
   "cell_type": "markdown",
   "metadata": {},
   "source": [
    "##### Now that we've checked our gradients are correct, we can implement the network"
   ]
  },
  {
   "cell_type": "code",
   "execution_count": 22,
   "metadata": {},
   "outputs": [],
   "source": [
    "def forward(w1, b1, w2, b2, x):\n",
    "    z1 = x @ w1 + b1\n",
    "    h1 = sigma(z1)\n",
    "    z2 = h1 @ w2 + b2\n",
    "    h2 = sigma(z2)\n",
    "    return z1, h1, z2, h2\n"
   ]
  },
  {
   "cell_type": "code",
   "execution_count": 23,
   "metadata": {},
   "outputs": [],
   "source": [
    "def backward(w1, b1, w2, b2, x1, y1, h2, z2, h1, z1):\n",
    "    dl = 1.0\n",
    "    dh2 = dloss(h2, y1) * dl\n",
    "    dz2 = dsigma(z2) * dh2\n",
    "    dw2 = h1.T @ dz2\n",
    "    db2 = dz2.sum(0, keepdim=True)\n",
    "    dh1 = dz2 @ w2.T\n",
    "    dz1 = dsigma(z1) * dh1\n",
    "    dw1 = x1.T @ dz1\n",
    "    db1 = dz1.sum(0, keepdim=True)\n",
    "    return dw1, db1, dw2, db2"
   ]
  },
  {
   "cell_type": "code",
   "execution_count": 24,
   "metadata": {},
   "outputs": [],
   "source": [
    "def update(w1, b1, w2, b2, dw1, db1, dw2, db2, lr):\n",
    "    with torch.no_grad():\n",
    "        w1 += -lr * dw1\n",
    "        b1 += -lr * db1.squeeze()\n",
    "        w2 += -lr * dw2\n",
    "        b2 += -lr * db2.squeeze()\n",
    "    return w1, b1, w2, b2"
   ]
  },
  {
   "cell_type": "code",
   "execution_count": 25,
   "metadata": {},
   "outputs": [],
   "source": [
    "def init():\n",
    "    \"\"\" init a network \"\"\"\n",
    "    torch.manual_seed(1337)\n",
    "    istd = math.sqrt(1e-6)\n",
    "    w1 = torch.zeros((784, 50))\n",
    "    torch.nn.init.normal_(w1, mean=.0, std=istd)\n",
    "    b1 = torch.zeros((50,))\n",
    "    w2 = torch.zeros((50, 10))\n",
    "    torch.nn.init.normal_(w2, mean=.0, std=istd)\n",
    "    b2 = torch.zeros((10,))\n",
    "    return w1, b1, w2, b2"
   ]
  },
  {
   "cell_type": "code",
   "execution_count": 26,
   "metadata": {},
   "outputs": [],
   "source": [
    "w1, b1, w2, b2 = init()\n",
    "parameters = [w1, b1, w2, b2]\n",
    "for p in parameters:\n",
    "    p.requires_grad_(True)"
   ]
  },
  {
   "cell_type": "code",
   "execution_count": 27,
   "metadata": {},
   "outputs": [
    {
     "data": {
      "text/plain": [
       "torch.Size([1000, 784])"
      ]
     },
     "execution_count": 27,
     "metadata": {},
     "output_type": "execute_result"
    }
   ],
   "source": [
    "train_input.shape"
   ]
  },
  {
   "cell_type": "code",
   "execution_count": 28,
   "metadata": {},
   "outputs": [],
   "source": [
    "# main training loop\n",
    "torch.set_printoptions(linewidth=200)\n",
    "def train(w1, b1, w2, b2):\n",
    "    lossi = []\n",
    "    for step in range(10000):\n",
    "        xb = train_input\n",
    "        yb = train_target\n",
    "        num_samples = xb.shape[0]\n",
    "        #print(f'{num_samples=}')\n",
    "        # forward\n",
    "        z1, h1, z2, h2 = forward(w1, b1, w2, b2, xb)\n",
    "        lsi = loss(h2, yb)\n",
    "        # backward\n",
    "        dw1, db1, dw2, db2 = backward(w1, b1, w2, b2, xb, yb, h2, z2, h1, z1)\n",
    "        # update\n",
    "        lr = 0.1 / num_samples if step < 5000 else 0.01 / num_samples\n",
    "        w1, b1, w2, b2 = update(w1, b1, w2, b2, dw1, db1, dw2, db2, lr)\n",
    "        if step % 100 == 0: print(f'step = {step}, loss = {lsi}')\n",
    "        lossi.append(lsi.item())\n",
    "    # compute accuracy\n",
    "    _, _, _, preds = forward(w1, b1, w2, b2, train_input)\n",
    "    train_accuracy = compute_accuracy(preds, train_target)\n",
    "    _, _, _, preds = forward(w1, b1, w2, b2, test_input)\n",
    "    test_accuracy = compute_accuracy(preds, test_target)\n",
    "    print(f'{train_accuracy=}')\n",
    "    print(f'{test_accuracy=}')\n",
    "    return lossi\n",
    "\n",
    "        \n",
    "    "
   ]
  },
  {
   "cell_type": "code",
   "execution_count": 29,
   "metadata": {},
   "outputs": [
    {
     "name": "stdout",
     "output_type": "stream",
     "text": [
      "step = 0, loss = 809.9498291015625\n",
      "step = 100, loss = 288.3344421386719\n",
      "step = 200, loss = 188.25146484375\n",
      "step = 300, loss = 135.74131774902344\n",
      "step = 400, loss = 111.4034652709961\n",
      "step = 500, loss = 108.89515686035156\n",
      "step = 600, loss = 81.62015533447266\n",
      "step = 700, loss = 72.11908721923828\n",
      "step = 800, loss = 63.931785583496094\n",
      "step = 900, loss = 68.5213394165039\n",
      "step = 1000, loss = 57.91291809082031\n",
      "step = 1100, loss = 57.774803161621094\n",
      "step = 1200, loss = 48.503173828125\n",
      "step = 1300, loss = 50.216487884521484\n",
      "step = 1400, loss = 44.802391052246094\n",
      "step = 1500, loss = 37.05268859863281\n",
      "step = 1600, loss = 38.78538131713867\n",
      "step = 1700, loss = 36.943973541259766\n",
      "step = 1800, loss = 29.76604461669922\n",
      "step = 1900, loss = 29.955276489257812\n",
      "step = 2000, loss = 29.7383975982666\n",
      "step = 2100, loss = 27.405160903930664\n",
      "step = 2200, loss = 22.288021087646484\n",
      "step = 2300, loss = 30.85781478881836\n",
      "step = 2400, loss = 21.275697708129883\n",
      "step = 2500, loss = 23.105621337890625\n",
      "step = 2600, loss = 19.909862518310547\n",
      "step = 2700, loss = 18.00688362121582\n",
      "step = 2800, loss = 21.7841854095459\n",
      "step = 2900, loss = 22.062341690063477\n",
      "step = 3000, loss = 14.48396110534668\n",
      "step = 3100, loss = 16.229660034179688\n",
      "step = 3200, loss = 15.81510066986084\n",
      "step = 3300, loss = 17.025466918945312\n",
      "step = 3400, loss = 19.565996170043945\n",
      "step = 3500, loss = 15.630648612976074\n",
      "step = 3600, loss = 17.642383575439453\n",
      "step = 3700, loss = 13.658353805541992\n",
      "step = 3800, loss = 13.682855606079102\n",
      "step = 3900, loss = 15.210853576660156\n",
      "step = 4000, loss = 11.781909942626953\n",
      "step = 4100, loss = 11.149876594543457\n",
      "step = 4200, loss = 10.086343765258789\n",
      "step = 4300, loss = 11.560576438903809\n",
      "step = 4400, loss = 11.456698417663574\n",
      "step = 4500, loss = 15.37362289428711\n",
      "step = 4600, loss = 12.521717071533203\n",
      "step = 4700, loss = 13.501851081848145\n",
      "step = 4800, loss = 9.27542781829834\n",
      "step = 4900, loss = 10.488182067871094\n",
      "step = 5000, loss = 9.7229642868042\n",
      "step = 5100, loss = 5.339818000793457\n",
      "step = 5200, loss = 5.298418998718262\n",
      "step = 5300, loss = 5.262582778930664\n",
      "step = 5400, loss = 5.230088710784912\n",
      "step = 5500, loss = 5.199909210205078\n",
      "step = 5600, loss = 5.171462059020996\n",
      "step = 5700, loss = 5.144383907318115\n",
      "step = 5800, loss = 5.118426322937012\n",
      "step = 5900, loss = 5.093418121337891\n",
      "step = 6000, loss = 5.069221019744873\n",
      "step = 6100, loss = 5.045738697052002\n",
      "step = 6200, loss = 5.022887706756592\n",
      "step = 6300, loss = 5.000602722167969\n",
      "step = 6400, loss = 4.978830814361572\n",
      "step = 6500, loss = 4.9575276374816895\n",
      "step = 6600, loss = 4.936651229858398\n",
      "step = 6700, loss = 4.916170120239258\n",
      "step = 6800, loss = 4.896055698394775\n",
      "step = 6900, loss = 4.876284122467041\n",
      "step = 7000, loss = 4.85683012008667\n",
      "step = 7100, loss = 4.837675094604492\n",
      "step = 7200, loss = 4.818802833557129\n",
      "step = 7300, loss = 4.80019474029541\n",
      "step = 7400, loss = 4.7818403244018555\n",
      "step = 7500, loss = 4.7637224197387695\n",
      "step = 7600, loss = 4.745832443237305\n",
      "step = 7700, loss = 4.7281575202941895\n",
      "step = 7800, loss = 4.710688591003418\n",
      "step = 7900, loss = 4.693418025970459\n",
      "step = 8000, loss = 4.676336765289307\n",
      "step = 8100, loss = 4.659438133239746\n",
      "step = 8200, loss = 4.642714977264404\n",
      "step = 8300, loss = 4.626161098480225\n",
      "step = 8400, loss = 4.609768390655518\n",
      "step = 8500, loss = 4.593533039093018\n",
      "step = 8600, loss = 4.577448844909668\n",
      "step = 8700, loss = 4.561512470245361\n",
      "step = 8800, loss = 4.545716762542725\n",
      "step = 8900, loss = 4.530060291290283\n",
      "step = 9000, loss = 4.514537811279297\n",
      "step = 9100, loss = 4.499146938323975\n",
      "step = 9200, loss = 4.483880043029785\n",
      "step = 9300, loss = 4.468737602233887\n",
      "step = 9400, loss = 4.453713893890381\n",
      "step = 9500, loss = 4.438808917999268\n",
      "step = 9600, loss = 4.424017429351807\n",
      "step = 9700, loss = 4.409337043762207\n",
      "step = 9800, loss = 4.394768238067627\n",
      "step = 9900, loss = 4.380305290222168\n",
      "train_accuracy=1.0\n",
      "test_accuracy=0.8180000185966492\n"
     ]
    }
   ],
   "source": [
    "lossi = train(w1, b1, w2, b2)\n"
   ]
  },
  {
   "cell_type": "code",
   "execution_count": 30,
   "metadata": {},
   "outputs": [
    {
     "data": {
      "text/plain": [
       "[<matplotlib.lines.Line2D at 0x16e120250>]"
      ]
     },
     "execution_count": 30,
     "metadata": {},
     "output_type": "execute_result"
    },
    {
     "data": {
      "image/png": "[encoded data removed]",
      "text/plain": [
       "<Figure size 640x480 with 1 Axes>"
      ]
     },
     "metadata": {},
     "output_type": "display_data"
    }
   ],
   "source": [
    "plt.plot(lossi)\n",
    "#print(lossi)"
   ]
  },
  {
   "cell_type": "markdown",
   "metadata": {},
   "source": [
    "### Step 2: Reference implementation using pytorch's .backward()"
   ]
  },
  {
   "cell_type": "code",
   "execution_count": 31,
   "metadata": {},
   "outputs": [],
   "source": [
    "w1, b1, w2, b2 = init()\n",
    "parameters = [w1, b1, w2, b2]\n",
    "for p in parameters:\n",
    "    p.requires_grad_(True)"
   ]
  },
  {
   "cell_type": "code",
   "execution_count": 32,
   "metadata": {},
   "outputs": [],
   "source": [
    "# reference code\n",
    "torch.set_printoptions(linewidth=200)\n",
    "import torch.nn as F\n",
    "\n",
    "def train(w1, b1, w2, b2):\n",
    "    lossi = []\n",
    "    for step in range(10000):\n",
    "        xb = train_input\n",
    "        yb = train_target\n",
    "        num_samples = xb.shape[0]\n",
    "        # forward\n",
    "        z1, h1, z2, h2 = forward(w1, b1, w2, b2, xb)\n",
    "        xloss = F.MSELoss()\n",
    "        lsi = xloss(h2, yb) * yb.nelement()\n",
    "        # backward\n",
    "        for p in parameters:\n",
    "            p.grad = None\n",
    "        lsi.backward()\n",
    "        # update\n",
    "        lr = 0.1 / num_samples\n",
    "        for p in parameters:\n",
    "            p.data += -lr * p.grad\n",
    "        if step % 100 == 0: print(f'step = {step}, loss = {lsi}')\n",
    "        lossi.append(lsi.item())\n",
    "    # compute accuracy\n",
    "    _, _, _, preds = forward(w1, b1, w2, b2, train_input)\n",
    "    train_accuracy = compute_accuracy(preds, train_target)\n",
    "    _, _, _, preds = forward(w1, b1, w2, b2, test_input)\n",
    "    test_accuracy = compute_accuracy(preds, test_target)\n",
    "    print(f'{train_accuracy=}')\n",
    "    print(f'{test_accuracy=}')\n",
    "    return lossi"
   ]
  },
  {
   "cell_type": "code",
   "execution_count": 33,
   "metadata": {},
   "outputs": [
    {
     "name": "stdout",
     "output_type": "stream",
     "text": [
      "step = 0, loss = 809.9498901367188\n",
      "step = 100, loss = 288.28369140625\n",
      "step = 200, loss = 184.11080932617188\n",
      "step = 300, loss = 160.19264221191406\n",
      "step = 400, loss = 107.85164642333984\n",
      "step = 500, loss = 95.93726348876953\n",
      "step = 600, loss = 93.2559585571289\n",
      "step = 700, loss = 97.03384399414062\n",
      "step = 800, loss = 70.87261199951172\n",
      "step = 900, loss = 62.282379150390625\n",
      "step = 1000, loss = 53.30959701538086\n",
      "step = 1100, loss = 58.90336990356445\n",
      "step = 1200, loss = 39.89829635620117\n",
      "step = 1300, loss = 45.262142181396484\n",
      "step = 1400, loss = 44.16379928588867\n",
      "step = 1500, loss = 33.67974090576172\n",
      "step = 1600, loss = 37.013328552246094\n",
      "step = 1700, loss = 36.373382568359375\n",
      "step = 1800, loss = 42.787803649902344\n",
      "step = 1900, loss = 35.408042907714844\n",
      "step = 2000, loss = 37.09584426879883\n",
      "step = 2100, loss = 26.44915771484375\n",
      "step = 2200, loss = 28.030025482177734\n",
      "step = 2300, loss = 27.747295379638672\n",
      "step = 2400, loss = 21.42892074584961\n",
      "step = 2500, loss = 19.893863677978516\n",
      "step = 2600, loss = 21.148881912231445\n",
      "step = 2700, loss = 23.1500301361084\n",
      "step = 2800, loss = 22.824308395385742\n",
      "step = 2900, loss = 17.577228546142578\n",
      "step = 3000, loss = 18.157569885253906\n",
      "step = 3100, loss = 19.211688995361328\n",
      "step = 3200, loss = 15.48856258392334\n",
      "step = 3300, loss = 20.05750274658203\n",
      "step = 3400, loss = 14.994196891784668\n",
      "step = 3500, loss = 18.767681121826172\n",
      "step = 3600, loss = 11.921908378601074\n",
      "step = 3700, loss = 17.19237518310547\n",
      "step = 3800, loss = 18.111968994140625\n",
      "step = 3900, loss = 12.999746322631836\n",
      "step = 4000, loss = 13.401376724243164\n",
      "step = 4100, loss = 12.81159496307373\n",
      "step = 4200, loss = 16.66434097290039\n",
      "step = 4300, loss = 11.901449203491211\n",
      "step = 4400, loss = 12.418298721313477\n",
      "step = 4500, loss = 13.787534713745117\n",
      "step = 4600, loss = 9.33470630645752\n",
      "step = 4700, loss = 10.475931167602539\n",
      "step = 4800, loss = 10.721320152282715\n",
      "step = 4900, loss = 11.598637580871582\n",
      "step = 5000, loss = 11.095690727233887\n",
      "step = 5100, loss = 12.977728843688965\n",
      "step = 5200, loss = 14.132246971130371\n",
      "step = 5300, loss = 12.358467102050781\n",
      "step = 5400, loss = 11.200923919677734\n",
      "step = 5500, loss = 9.544965744018555\n",
      "step = 5600, loss = 11.745570182800293\n",
      "step = 5700, loss = 9.660755157470703\n",
      "step = 5800, loss = 9.05026626586914\n",
      "step = 5900, loss = 8.106032371520996\n",
      "step = 6000, loss = 6.957893371582031\n",
      "step = 6100, loss = 11.00963020324707\n",
      "step = 6200, loss = 9.795236587524414\n",
      "step = 6300, loss = 7.111064434051514\n",
      "step = 6400, loss = 7.491145133972168\n",
      "step = 6500, loss = 8.128252983093262\n",
      "step = 6600, loss = 9.031554222106934\n",
      "step = 6700, loss = 5.723635196685791\n",
      "step = 6800, loss = 6.717040061950684\n",
      "step = 6900, loss = 7.920772552490234\n",
      "step = 7000, loss = 5.549960613250732\n",
      "step = 7100, loss = 9.827540397644043\n",
      "step = 7200, loss = 6.80715799331665\n",
      "step = 7300, loss = 9.20263671875\n",
      "step = 7400, loss = 7.778714179992676\n",
      "step = 7500, loss = 6.9912943840026855\n",
      "step = 7600, loss = 5.957196235656738\n",
      "step = 7700, loss = 6.6438493728637695\n",
      "step = 7800, loss = 7.483050346374512\n",
      "step = 7900, loss = 6.10596227645874\n",
      "step = 8000, loss = 5.942602157592773\n",
      "step = 8100, loss = 6.256357669830322\n",
      "step = 8200, loss = 7.4769182205200195\n",
      "step = 8300, loss = 5.128096103668213\n",
      "step = 8400, loss = 7.129430294036865\n",
      "step = 8500, loss = 4.62935733795166\n",
      "step = 8600, loss = 6.340058326721191\n",
      "step = 8700, loss = 6.609835624694824\n",
      "step = 8800, loss = 5.598940849304199\n",
      "step = 8900, loss = 3.797964334487915\n",
      "step = 9000, loss = 7.250896453857422\n",
      "step = 9100, loss = 6.068036079406738\n",
      "step = 9200, loss = 6.566247940063477\n",
      "step = 9300, loss = 4.810764312744141\n",
      "step = 9400, loss = 5.169281959533691\n",
      "step = 9500, loss = 4.1533026695251465\n",
      "step = 9600, loss = 6.104358673095703\n",
      "step = 9700, loss = 4.923810958862305\n",
      "step = 9800, loss = 5.206926345825195\n",
      "step = 9900, loss = 6.745911598205566\n",
      "train_accuracy=1.0\n",
      "test_accuracy=0.8149999976158142\n"
     ]
    }
   ],
   "source": [
    "lossi = train(w1, b1, w2, b2)"
   ]
  },
  {
   "cell_type": "code",
   "execution_count": 34,
   "metadata": {},
   "outputs": [
    {
     "data": {
      "text/plain": [
       "[<matplotlib.lines.Line2D at 0x176bee1d0>]"
      ]
     },
     "execution_count": 34,
     "metadata": {},
     "output_type": "execute_result"
    },
    {
     "data": {
      "image/png": "[encoded data removed]",
      "text/plain": [
       "<Figure size 640x480 with 1 Axes>"
      ]
     },
     "metadata": {},
     "output_type": "display_data"
    }
   ],
   "source": [
    "plt.plot(lossi)"
   ]
  },
  {
   "cell_type": "markdown",
   "metadata": {},
   "source": [
    "### Step 3: Build the same MLP layer but with fully pytorch code (nn.Linear(), etc.)"
   ]
  },
  {
   "cell_type": "code",
   "execution_count": 35,
   "metadata": {},
   "outputs": [],
   "source": [
    "# network dimensions\n",
    "n_in = 784\n",
    "n_hidden = 200\n",
    "n_out = 10"
   ]
  },
  {
   "cell_type": "code",
   "execution_count": 36,
   "metadata": {},
   "outputs": [],
   "source": [
    "X_tr, Y_tr = train_input, train_target\n",
    "X_test, Y_test = test_input, test_target"
   ]
  },
  {
   "cell_type": "code",
   "execution_count": 37,
   "metadata": {},
   "outputs": [],
   "source": [
    "class MLP(nn.Module):\n",
    "\n",
    "    def __init__(self):\n",
    "        super().__init__()\n",
    "        self.layers = nn.ModuleList((\n",
    "            nn.Linear(n_in, n_hidden, bias=True),\n",
    "            nn.Tanh(),\n",
    "            nn.Linear(n_hidden, n_out, bias=True), \n",
    "            nn.Tanh(), \n",
    "        ))\n",
    "\n",
    "    def __call__(self, x):\n",
    "        for layer in self.layers:\n",
    "            x = layer(x)\n",
    "        return x\n",
    "    \n",
    "    def __parameters__(self):\n",
    "        return [p for layer in self.layers for p in layer.parameters]\n",
    "\n",
    "model = MLP()\n",
    "optimizer = torch.optim.AdamW(model.parameters(), lr=1e-3)\n",
    "loss_fn = nn.MSELoss()"
   ]
  },
  {
   "cell_type": "code",
   "execution_count": 38,
   "metadata": {},
   "outputs": [
    {
     "name": "stdout",
     "output_type": "stream",
     "text": [
      "step =      0\tloss=0.14046\taccuracy (train, test): 0.11500\t0.19800\n",
      "step =   1000\tloss=0.00010\taccuracy (train, test): 1.00000\t0.87300\n",
      "step =   2000\tloss=0.00005\taccuracy (train, test): 1.00000\t0.87300\n",
      "step =   3000\tloss=0.00009\taccuracy (train, test): 1.00000\t0.87600\n",
      "step =   4000\tloss=0.00006\taccuracy (train, test): 1.00000\t0.87700\n",
      "step =   5000\tloss=0.00008\taccuracy (train, test): 1.00000\t0.87900\n",
      "step =   6000\tloss=0.00017\taccuracy (train, test): 1.00000\t0.88000\n",
      "step =   7000\tloss=0.00006\taccuracy (train, test): 1.00000\t0.87900\n",
      "step =   8000\tloss=0.00002\taccuracy (train, test): 1.00000\t0.88000\n",
      "step =   9000\tloss=0.00002\taccuracy (train, test): 1.00000\t0.88100\n"
     ]
    }
   ],
   "source": [
    "# training\n",
    "num_epochs = 10000\n",
    "\n",
    "for n in range(num_epochs):\n",
    "    y_pred = model(X_tr)\n",
    "    loss = loss_fn(y_pred, Y_tr)\n",
    "    optimizer.zero_grad()\n",
    "    loss.backward()\n",
    "    optimizer.step()\n",
    "    if n % 1000 == 0: \n",
    "        with torch.no_grad():\n",
    "            # train accuracy\n",
    "            acc_train = compute_accuracy(y_pred, Y_tr)\n",
    "            # test accuracy\n",
    "            y_test_preds = model(X_test)\n",
    "            acc_test = compute_accuracy(y_test_preds, Y_test)\n",
    "            print(f'step = {n:6d}\\tloss={loss.item():.5f}\\taccuracy (train, test): {acc_train:.5f}\\t{acc_test:.5f}')\n",
    "\n",
    "\n"
   ]
  },
  {
   "cell_type": "markdown",
   "metadata": {},
   "source": [
    "##### Exercise: try to improve accuracy!"
   ]
  }
 ],
 "metadata": {
  "kernelspec": {
   "display_name": "env",
   "language": "python",
   "name": "python3"
  },
  "language_info": {
   "codemirror_mode": {
    "name": "ipython",
    "version": 3
   },
   "file_extension": ".py",
   "mimetype": "text/x-python",
   "name": "python",
   "nbconvert_exporter": "python",
   "pygments_lexer": "ipython3",
   "version": "3.11.7"
  }
 },
 "nbformat": 4,
 "nbformat_minor": 2
}
